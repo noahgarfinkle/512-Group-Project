{
 "cells": [
  {
   "cell_type": "markdown",
   "metadata": {},
   "source": [
    "# **GROUP PROJECT**"
   ]
  },
  {
   "cell_type": "markdown",
   "metadata": {},
   "source": [
    "https://link.springer.com/referenceworkentry/10.1007%2F978-0-387-74759-0_345"
   ]
  },
  {
   "cell_type": "code",
   "execution_count": null,
   "metadata": {},
   "outputs": [],
   "source": [
    "import numpy as np\n",
    "import pandas as pd\n",
    "import matplotlib.pyplot as plt\n",
    "import seaborn as sns\n",
    "import networkx as nx\n",
    "from collections import defaultdict\n",
    "import geopandas as gpd\n",
    "import random\n",
    "from deap import base, creator, tools\n",
    "import pyproj\n",
    "from shapely.geometry import Point\n",
    "import numpy as np\n",
    "import pandas as pd\n",
    "import matplotlib.pyplot as plt\n",
    "import seaborn as sns\n",
    "import geopandas as gpd\n",
    "import ortools as ort\n",
    "import datetime as dt\n",
    "# pysal submodule imports\n",
    "from pysal.lib import cg, examples\n",
    "from pysal.explore import spaghetti as spgh\n",
    "\n",
    "import geopandas as gpd\n",
    "from shapely.geometry import Point\n",
    "from ortools.linear_solver import pywraplp\n",
    "import copy, sys, warnings\n",
    "from collections import OrderedDict\n",
    "\n",
    "import matplotlib as mpl\n",
    "import matplotlib.lines as mlines\n",
    "import matplotlib.patches as mpatches\n",
    "from matplotlib.colors import ListedColormap\n",
    "\n",
    "try:\n",
    "    from IPython.display import set_matplotlib_formats\n",
    "    set_matplotlib_formats('retina')\n",
    "except ImportError:\n",
    "    pass"
   ]
  },
  {
   "cell_type": "markdown",
   "metadata": {},
   "source": [
    "# **1. Problem Variables**"
   ]
  },
  {
   "cell_type": "code",
   "execution_count": null,
   "metadata": {},
   "outputs": [],
   "source": [
    "# truck variables\n",
    "truckRange = 10\n",
    "truckCapacity = 500\n",
    "nCities = 30\n",
    "M = 10"
   ]
  },
  {
   "cell_type": "markdown",
   "metadata": {},
   "source": [
    "# **2. SET UP CITIES**"
   ]
  },
  {
   "cell_type": "code",
   "execution_count": 3,
   "metadata": {},
   "outputs": [],
   "source": [
    "def buildCityDF(nCities,gridX=100,gridY=100):\n",
    "    xs = np.random.randint(0,gridX,nCities)\n",
    "    ys = np.random.randint(0,gridY,nCities)\n",
    "    pts = [Point(xs[i],ys[i]) for i in range(0,nCities)]\n",
    "    demands = np.random.randint(0,101,nCities)\n",
    "    facilityOneCosts = np.random.randint(0,101,nCities)\n",
    "    facilityTwoCosts = np.random.randint(100,201,nCities)\n",
    "    cityIndices = range(0,nCities)\n",
    "    cities = gpd.GeoDataFrame({\"x\":xs,\"y\":ys,\"demand\":demands,\"geometry\":pts,\"City Index\":cityIndices,\"Facility One Cost\":facilityOneCosts,\"Facility Two Cost\":facilityTwoCosts})\n",
    "    return cities"
   ]
  },
  {
   "cell_type": "code",
   "execution_count": null,
   "metadata": {},
   "outputs": [],
   "source": [
    "cities = buildCityDF(nCities)"
   ]
  },
  {
   "cell_type": "markdown",
   "metadata": {},
   "source": [
    "# **3. DIVIDE UP CITIES INTO SUB-TOURS TO BE SOLVED USING TSP**"
   ]
  },
  {
   "cell_type": "code",
   "execution_count": 4,
   "metadata": {},
   "outputs": [],
   "source": [
    "def buildDistanceMatrix_Euclidean(cities):\n",
    "    distances = np.zeros((len(cities),len(cities)))\n",
    "    for i,row in cities.iterrows():\n",
    "        for j,row2 in cities.iterrows():\n",
    "            distances[j,i] = row.geometry.distance(row2.geometry)\n",
    "    return distances"
   ]
  },
  {
   "cell_type": "code",
   "execution_count": null,
   "metadata": {},
   "outputs": [],
   "source": [
    "def solveOriginal(cities,M = 100):\n",
    "    solver_instance = pywraplp.Solver.CBC_MIXED_INTEGER_PROGRAMMING\n",
    "    distances = buildDistanceMatrix_Euclidean(cities)\n",
    "    cij = distances\n",
    "    n_customers = cij.shape[0]\n",
    "    range_customers = range(n_customers)\n",
    "    n_facilityCandidates = cij.shape[1]\n",
    "    range_facilityCandidates = range(n_facilityCandidates)\n",
    "    demands = np.array(cities[\"demand\"])\n",
    "    demands_sum = demands.sum()\n",
    "\n",
    "    model = pywraplp.Solver(\"Capacitated Fixed Charge\", solver_instance)\n",
    "    \n",
    "    xij = {(i,j): model.IntVar(0,1, 'x[%i,%i]' % (i,j)) for i in range_customers for j in range_facilityCandidates}\n",
    "    yj = {j: model.IntVar(0,1, 'y[%i]' % (j)) for j in range_facilityCandidates}\n",
    "    \n",
    "    obj = [(cij[0,j]+cij[i,j]+cij[i,0]) * xij[i,j] + 2*cij[0,j]*yj[j] for i in range_customers for j in range_facilityCandidates]\n",
    "    \n",
    "    for i in range_customers:\n",
    "        model.Add(model.Sum([xij[i,j] for j in range_facilityCandidates]) == 1)\n",
    "        \n",
    "    for j in range_facilityCandidates:\n",
    "        model.Add(model.Sum([demands[i] * xij[i,j] for i in range_facilityCandidates]) <= truckCapacity)\n",
    "            \n",
    "    for i in range_customers:\n",
    "        for j in range_facilityCandidates:\n",
    "            model.Add(xij[i,j] <= yj[j])\n",
    "            \n",
    "    for j in range_facilityCandidates:\n",
    "        #model.Add(yj[j] <= M)\n",
    "        model.Add(model.Sum([yj[j] for j in range_facilityCandidates]) <= M)\n",
    "        \n",
    "\n",
    "    model.Minimize(model.Sum(obj))\n",
    "    status = model.Solve()\n",
    "\n",
    "    if status == pywraplp.Solver.OPTIMAL:\n",
    "        print('Optimal Solution Found')\n",
    "\n",
    "    resultGDF = cities.copy(deep=True)\n",
    "    resultGDF[\"Status\"] = [yj[j].solution_value() for j in range_facilityCandidates]\n",
    "    \n",
    "    return model,yj,xij,resultGDF,status"
   ]
  },
  {
   "cell_type": "code",
   "execution_count": null,
   "metadata": {},
   "outputs": [],
   "source": [
    "m,yj,xij,resultGDF,status = solveOriginal(cities,M=M)"
   ]
  },
  {
   "cell_type": "code",
   "execution_count": null,
   "metadata": {},
   "outputs": [],
   "source": [
    "# do location problem first, then solve routing problem"
   ]
  },
  {
   "cell_type": "code",
   "execution_count": null,
   "metadata": {},
   "outputs": [],
   "source": [
    "assignments = np.zeros((len(cities),len(cities)))\n",
    "for k,v in xij.items():\n",
    "    i = k[0]\n",
    "    j = k[1]\n",
    "    assignments[i,j] = v.solution_value()\n",
    "cluster = []\n",
    "for cityNodeID in range(len(cities)):\n",
    "    for rootNodeID in range(len(cities)):\n",
    "        lookup = assignments[cityNodeID,rootNodeID]\n",
    "        if lookup == 1:\n",
    "            cluster.append(rootNodeID)\n",
    "resultGDF[\"assignment\"] = cluster\n",
    "uniqueClusters = list(set(cluster))\n",
    "\n",
    "fig = plt.figure(figsize=(20,10))\n",
    "ax1 = fig.add_subplot(1,2,1)\n",
    "ax2 = fig.add_subplot(1,2,2)\n",
    "fig.tight_layout()\n",
    "colors = ['#'+''.join([random.choice('0123456789ABCDEF') for j in range(6)]) for i in range(len(uniqueClusters))]\n",
    "for i in range(0,len(uniqueClusters)):\n",
    "    dfSubset = resultGDF[resultGDF[\"assignment\"]==uniqueClusters[i]]\n",
    "    dfSubset.plot(ax=ax1,color=colors[i],markersize=dfSubset[\"demand\"],label=f\"({cities.iloc[uniqueClusters[i]].x},{cities.iloc[uniqueClusters[i]].y})\")\n",
    "ax1.set_title(\"Tours organized by cluster\\nNode sizes proportional to demand\")\n",
    "ax1.legend()\n",
    "# Plot assignments\n",
    "plt.imshow(assignments)\n",
    "ax2.set_title(\"Assignment of citites to subtours\")\n",
    "ax2.set_xlabel(\"Subtour Root (Flag/Concentrator) Node\")\n",
    "ax2.set_ylabel(\"City\")"
   ]
  },
  {
   "cell_type": "markdown",
   "metadata": {},
   "source": [
    "# **4. SOLVE TSP SUB-TOURS**"
   ]
  },
  {
   "cell_type": "markdown",
   "metadata": {},
   "source": [
    "## **4.1 FIND INITIAL POPULATIONS**"
   ]
  },
  {
   "cell_type": "code",
   "execution_count": null,
   "metadata": {},
   "outputs": [],
   "source": [
    "def buildEdgeDf_Geo(df):\n",
    "    edgeIDs = []\n",
    "    sources = []\n",
    "    destinations = []\n",
    "    weights = []\n",
    "    edgeID = 0\n",
    "    for i,row in df.iterrows():\n",
    "        sourceID = row[\"City Index\"]\n",
    "        sourceGeometry = row[\"geometry\"]\n",
    "        for j,row in df.iterrows():\n",
    "            if j > i:\n",
    "                destID = row[\"City Index\"]\n",
    "                destGeometry = row[\"geometry\"]\n",
    "                distance = sourceGeometry.distance(destGeometry)\n",
    "                edgeIDs.append(edgeID)\n",
    "                sources.append(sourceID)\n",
    "                destinations.append(destID)\n",
    "                weights.append(distance)\n",
    "                edgeID += 1\n",
    "    df_links = pd.DataFrame({\"Edge\":edgeIDs,\"Source\":sources,\"Destination\":destinations,\"weight\":weights})\n",
    "    return df_links"
   ]
  },
  {
   "cell_type": "code",
   "execution_count": null,
   "metadata": {},
   "outputs": [],
   "source": [
    "def buildMinimumSpanningTree(df):\n",
    "    \"\"\"\n",
    "    Utilizes Kruskal's algorithm\n",
    "    \"\"\"\n",
    "    # 0. create dataframe of edges with weight, source, and destination\n",
    "    if type(df) == gpd.geodataframe.GeoDataFrame:\n",
    "        df_links = buildEdgeDf_Geo(df).sort_values(\"weight\")\n",
    "    else:\n",
    "        df_links = buildEdgeDf(df).sort_values(\"weight\")\n",
    "    \n",
    "    # 1. load all nodes into a graph\n",
    "    graph = nx.Graph()\n",
    "    graph.add_nodes_from(df.index)\n",
    "    # 2. Implement Kruskal's algorithm by adding each edge in order by weight so long as it does not create a cycle\n",
    "    for i,row in df_links.iterrows():\n",
    "        verticesReached = []\n",
    "        source = row[\"Source\"]\n",
    "        destination = row[\"Destination\"]\n",
    "        weight = row[\"weight\"]\n",
    "        graph.add_edge(source,destination)\n",
    "        cyclesInGraph = nx.cycle_basis(graph)\n",
    "        if len(cyclesInGraph) > 0: # check for cycle and remove edge if one is created\n",
    "            graph.remove_edge(source,destination)\n",
    "        if len(graph.edges) == len(graph.nodes) - 1:\n",
    "            break\n",
    "    # check results\n",
    "    fullgraph = nx.from_pandas_edgelist(df_links,source=\"Source\",target=\"Destination\",edge_attr=\"weight\")\n",
    "    mst = nx.minimum_spanning_tree(fullgraph)\n",
    "    isSameGraph = nx.is_isomorphic(graph,mst)\n",
    "    print(f\"The MST algorithm matches that of NetworkX: {isSameGraph}\")\n",
    "    return df_links,graph"
   ]
  },
  {
   "cell_type": "code",
   "execution_count": null,
   "metadata": {},
   "outputs": [],
   "source": [
    "# duplicate every edge on the MST\n",
    "def duplicateEdges(df_links):\n",
    "    edgeID = max(df_links[\"Edge\"]) + 1\n",
    "    for i,row in df_links.iterrows():\n",
    "        destination = row[\"Destination\"] # flip these because directed!\n",
    "        source = row[\"Source\"] # flip these because directed!\n",
    "        weight = row[\"weight\"]\n",
    "        df_links = df_links.append({\"Edge\":edgeID,\"Source\":destination,\"Destination\":source,\"weight\":weight},ignore_index=True)\n",
    "        edgeID += 1\n",
    "    df_links.index = df_links[\"Edge\"]\n",
    "    return df_links"
   ]
  },
  {
   "cell_type": "code",
   "execution_count": null,
   "metadata": {},
   "outputs": [],
   "source": [
    "def findNearestNodeNotAlreadyInSet(currentNodeID,df_links_geo_bidirectional,citiesNotInPath):\n",
    "    df_edgesStartingAtCity = df_links_geo_bidirectional[df_links_geo_bidirectional[\"Source\"]==currentNodeID].sort_values(\"weight\")\n",
    "    for i,row in df_edgesStartingAtCity.iterrows():\n",
    "        destinationID = row[\"Destination\"]\n",
    "        if destinationID in citiesNotInPath:\n",
    "            #addCityToPath(destinationID)\n",
    "            return destinationID"
   ]
  },
  {
   "cell_type": "code",
   "execution_count": null,
   "metadata": {},
   "outputs": [],
   "source": [
    "def addCityToPath(citiesInPath,citiesNotInPath,cityID):\n",
    "    citiesInPath.append(cityID)\n",
    "    citiesNotInPath.remove(cityID)\n",
    "    return citiesInPath,citiesNotInPath"
   ]
  },
  {
   "cell_type": "code",
   "execution_count": null,
   "metadata": {},
   "outputs": [],
   "source": [
    "def generateStartingPopulation(dfTourSubset):\n",
    "    startingPopulation = []\n",
    "    df_links_geo,graph_geo = buildMinimumSpanningTree(dfTourSubset)\n",
    "    df_links_geo_bidirectional = duplicateEdges(df_links_geo)\n",
    "    for startNode in dfTourSubset[\"City Index\"]:\n",
    "        citiesInPath = []\n",
    "        citiesNotInPath = [cityIndex for cityIndex in dfTourSubset[\"City Index\"]]\n",
    "        currentNode = startNode\n",
    "        while len(citiesNotInPath) > 0:\n",
    "            citiesInPath,citiesNotInPath = addCityToPath(citiesInPath,citiesNotInPath,currentNode)\n",
    "            nextNode = findNearestNodeNotAlreadyInSet(currentNode,df_links_geo_bidirectional,citiesNotInPath)\n",
    "            currentNode = nextNode\n",
    "        citiesInPath = [int(cityID) for cityID in citiesInPath]\n",
    "        startingPopulation.append(citiesInPath)\n",
    "    return startingPopulation"
   ]
  },
  {
   "cell_type": "code",
   "execution_count": null,
   "metadata": {},
   "outputs": [],
   "source": [
    "for cluster in set(resultGDF[\"assignment\"]):\n",
    "    dfTourSubset = resultGDF[resultGDF[\"assignment\"]==cluster]\n",
    "    startingPopulation = generateStartingPopulation(dfTourSubset)\n",
    "    print(startingPopulation)"
   ]
  },
  {
   "cell_type": "code",
   "execution_count": null,
   "metadata": {},
   "outputs": [],
   "source": [
    "def drawTourOnMap():\n",
    "    return 0"
   ]
  },
  {
   "cell_type": "markdown",
   "metadata": {},
   "source": [
    "## **4.2 USE GA TO LOOK FOR IMPROVEMENTS TO TSP TOUR**"
   ]
  },
  {
   "cell_type": "code",
   "execution_count": null,
   "metadata": {},
   "outputs": [],
   "source": [
    "## Min.\n",
    "creator.create(\"FitnessMin\", base.Fitness, weights=(-1.0,))\n",
    "creator.create(\"Individual\", list, fitness=creator.FitnessMin)\n",
    "\n",
    "toolbox = base.Toolbox()\n",
    "\n",
    "## permutation setup for individual,\n",
    "toolbox.register(\"indices\", random.sample, range(nCities),nCities)\n",
    "toolbox.register(\"individual\", tools.initIterate, creator.Individual, toolbox.indices)## population setup,\n",
    "toolbox.register(\"population\", tools.initRepeat, list, toolbox.individual)"
   ]
  },
  {
   "cell_type": "code",
   "execution_count": null,
   "metadata": {},
   "outputs": [],
   "source": [
    "def evaluate(individual,dfSubset):\n",
    "    # loop through two indices at a time, querying their distance and adding, returning to the first node at the end\n",
    "    score = 0.0\n",
    "    source = individual[0]\n",
    "    for i in range(1,len(individual)):\n",
    "        destination = individual[i]\n",
    "#         query = f\"Source == {source} & Destination == {destination}\"\n",
    "#         distance = df_links.query(query)[\"weight\"].min()\n",
    "        distance = dfSubset.loc[source].geometry.distance(dfSubset.loc[destination].geometry)\n",
    "#         distance = distanceMatrix[source-1,destination-1]\n",
    "        score += distance\n",
    "        source = destination\n",
    "    # for the last individual\n",
    "    source = individual[len(individual)-1]\n",
    "    destination = individual[0]\n",
    "#     distance = distanceMatrix[source-1,destination-1]\n",
    "    distance = dfSubset.loc[source].geometry.distance(dfSubset.loc[destination].geometry)\n",
    "#     query = f\"Source == {source} & Destination == {destination}\"\n",
    "#     distance = df_links.query(query)[\"weight\"].min()\n",
    "    score += distance\n",
    "    return score\n",
    "toolbox.register(\"evaluate\",evaluate)"
   ]
  },
  {
   "cell_type": "code",
   "execution_count": null,
   "metadata": {},
   "outputs": [],
   "source": [
    "toolbox.register(\"mate\", tools.cxOrdered)\n",
    "toolbox.register(\"mutate\", tools.mutShuffleIndexes, indpb=0.01)\n",
    "toolbox.register(\"select\", tools.selTournament, tournsize=10)"
   ]
  },
  {
   "cell_type": "code",
   "execution_count": null,
   "metadata": {},
   "outputs": [],
   "source": [
    "class Runner:\n",
    "    \n",
    "    def __init__(self, toolbox,startingPopulation,dfSubset):\n",
    "        self.toolbox = toolbox\n",
    "        self.set_parameters(10, 5, 2)\n",
    "        self.startingPopulation = startingPopulation\n",
    "        self.dfSubset = dfSubset\n",
    "        \n",
    "    def set_parameters(self, population_size, iterations, n_matings):\n",
    "        self.iterations = iterations\n",
    "        self.population_size = population_size\n",
    "        self.n_matings = n_matings\n",
    "        \n",
    "    def set_fitness(self, population):\n",
    "        fitnesses = [ \n",
    "            (individual, self.toolbox.evaluate(individual,self.startingPopulation)) \n",
    "            for individual in population \n",
    "        ]\n",
    "\n",
    "        for individual, fitness in fitnesses:\n",
    "            individual.fitness.values = (fitness,)\n",
    "            \n",
    "    def get_offspring(self, population):\n",
    "        n = len(population)\n",
    "        for _ in range(self.n_matings):\n",
    "            i1, i2 = np.random.choice(range(n), size=2, replace=False)\n",
    "\n",
    "            offspring1, offspring2 = \\\n",
    "                self.toolbox.mate(population[i1], population[i2])\n",
    "            \n",
    "            yield self.toolbox.mutate(offspring1)[0]\n",
    "            yield self.toolbox.mutate(offspring2)[0]\n",
    "    \n",
    "    @staticmethod\n",
    "    def pull_stats(population, iteration=1):\n",
    "        fitnesses = [ individual.fitness.values[0] for individual in population ]\n",
    "        return {\n",
    "            'i': iteration,\n",
    "            'mu': np.mean(fitnesses),\n",
    "            'std': np.std(fitnesses),\n",
    "            'max': np.max(fitnesses),\n",
    "            'min': np.min(fitnesses)\n",
    "        }  \n",
    "    \n",
    "    # https://deap.readthedocs.io/en/master/tutorials/basic/part1.html?highlight=seeding#seeding-a-population\n",
    "    def initIndividual(icls, content):\n",
    "        return icls(content)\n",
    "\n",
    "    def initPopulation(self,pcls, ind_init, population):\n",
    "        print(\"initPopulation\")\n",
    "#         return self.startingPopulation\n",
    "        return pcls(ind_init(c) for c in self.startingPopulation)\n",
    "\n",
    "    toolbox = base.Toolbox()\n",
    "\n",
    "    toolbox.register(\"individual_guess\", initIndividual, creator.Individual)\n",
    "    toolbox.register(\"population_guess\", initPopulation, list, toolbox.individual_guess, startingPopulation)\n",
    "    \n",
    "    def initializePopulation(self):\n",
    "        print(\"initializePopulation\")\n",
    "        # perform a parameter sweep using nearest neighbor method\n",
    "        return toolbox.population_guess()\n",
    "    \n",
    "    def Run(self):\n",
    "#         population = self.toolbox.population(n=self.population_size)\n",
    "        population = self.initPopulation(0,1,2)\n",
    "        print(population)\n",
    "        self.set_fitness(population)\n",
    "        \n",
    "        stats = []\n",
    "        for iteration in list(range(1, self.iterations + 1)):\n",
    "            current_population = list(map(self.toolbox.clone, population))\n",
    "            offspring = list(self.get_offspring(current_population))            \n",
    "            for child in offspring:\n",
    "                current_population.append(child)\n",
    "            \n",
    "            ## reset fitness,\n",
    "            self.set_fitness(current_population)\n",
    "            \n",
    "            population[:] = self.toolbox.select(current_population, len(population))\n",
    "            stats.append(\n",
    "                Runner.pull_stats(population, iteration))\n",
    "            \n",
    "        return stats, population"
   ]
  },
  {
   "cell_type": "code",
   "execution_count": null,
   "metadata": {},
   "outputs": [],
   "source": [
    "%%time\n",
    "POPULATION_SIZE = 150\n",
    "N_ITERATIONS = 1000\n",
    "N_MATINGS = 50\n",
    "a = Runner(toolbox,startingPopulation[0],dfSubset)\n",
    "a.set_parameters(POPULATION_SIZE, N_ITERATIONS, N_MATINGS)\n",
    "stats, population = a.Run()"
   ]
  },
  {
   "cell_type": "code",
   "execution_count": null,
   "metadata": {},
   "outputs": [],
   "source": [
    "plt.figure(figsize=(15,5))\n",
    "\n",
    "plt.subplot(1,2,1)\n",
    "\n",
    "_ = plt.scatter([ s['min'] for s in stats ], [ s['max'] for s in stats ], marker='.', s=[ (s['std'] + 1) / 20 for s in stats ])\n",
    "\n",
    "_ = plt.title('min by max')\n",
    "_ = plt.xlabel('min')\n",
    "_ = plt.ylabel('max')\n",
    "\n",
    "_ = plt.plot(stats[0]['min'], stats[0]['max'], marker='.', color='yellow')\n",
    "_ = plt.plot(stats[-1]['min'], stats[-1]['max'], marker='.', color='red')\n",
    "\n",
    "\n",
    "plt.subplot(1,2,2)\n",
    "\n",
    "_ = plt.scatter([ s['i'] for s in stats ], [ s['mu'] for s in stats ], marker='.', s=[ (s['std'] + 1) / 20 for s in stats ])\n",
    "\n",
    "_ = plt.title('average by iteration')\n",
    "_ = plt.xlabel('iteration')\n",
    "_ = plt.ylabel('average')\n",
    "\n",
    "_ = plt.plot(stats[0]['i'], stats[0]['mu'], marker='.', color='yellow')\n",
    "_ = plt.plot(stats[-1]['i'], stats[-1]['mu'], marker='.', color='red')\n",
    "\n",
    "plt.tight_layout()\n",
    "plt.show()"
   ]
  },
  {
   "cell_type": "code",
   "execution_count": null,
   "metadata": {},
   "outputs": [],
   "source": []
  },
  {
   "cell_type": "markdown",
   "metadata": {},
   "source": [
    "# **5. SOLVE FOR CHARGING STATIONS**"
   ]
  },
  {
   "cell_type": "code",
   "execution_count": null,
   "metadata": {},
   "outputs": [],
   "source": [
    "resultGDF.head()"
   ]
  },
  {
   "cell_type": "code",
   "execution_count": null,
   "metadata": {},
   "outputs": [],
   "source": [
    "distances = buildDistanceMatrix_Euclidean(resultGDF) * 10"
   ]
  },
  {
   "cell_type": "code",
   "execution_count": null,
   "metadata": {},
   "outputs": [],
   "source": [
    "distances[resultGDF.iloc[0][\"City Index\"],resultGDF.iloc[10][\"City Index\"]]"
   ]
  },
  {
   "cell_type": "code",
   "execution_count": null,
   "metadata": {},
   "outputs": [],
   "source": [
    "fiz"
   ]
  },
  {
   "cell_type": "code",
   "execution_count": null,
   "metadata": {},
   "outputs": [],
   "source": [
    "solver_instance = pywraplp.Solver.CBC_MIXED_INTEGER_PROGRAMMING\n",
    "model = pywraplp.Solver(\"Capacitated Fixed Charge\", solver_instance)\n",
    "\n",
    "distances = buildDistanceMatrix_Euclidean(resultGDF)\n",
    "powerDemandPerDistance = 5.0\n",
    "dij = cij = distances * powerDemandPerDistance\n",
    "\n",
    "alpha = penaltyForChargingTime = 75.0\n",
    "\n",
    "beta = chargingSpeeds = np.array([100,200])\n",
    "\n",
    "gamma = chargingCost = np.array([1,2])\n",
    "fiz = facilityCost = resultGDF[[\"Facility One Cost\",\"Facility Two Cost\"]].as_matrix()\n",
    "\n",
    "\n",
    "n_customers = cij.shape[0]\n",
    "range_customers = range(n_customers)\n",
    "n_facilityCandidates = cij.shape[1]\n",
    "range_facilityCandidates = range(n_facilityCandidates)\n",
    "demands = np.array(cities[\"demand\"])\n",
    "demands_sum = demands.sum()\n",
    "\n",
    "tiz = {(i,z): model.IntVar(0,120, 't[%i,%i]' % (i,z)) for i in range_facilityCandidates for z in range(0,2)}\n",
    "\n",
    "xiz = {(i,z): model.IntVar(0,1, 'x[%i,%i]' % (i,z)) for i in range_facilityCandidates for z in range(0,2)}\n",
    "\n",
    "# obj = [alpha*xiz[i,z]*tiz[i,z] + gamma[z]*xiz[i,z]*tiz[i,z]*beta[z] + fiz[i,z]*xiz[i,z] for i in range_facilityCandidates for z in range(0,2)]\n",
    "range_types = range(2)\n",
    "obj = [fiz[i,z]*xiz[i,z] for i in range_facilityCandidates for z in range(0,2)]\n",
    "\n",
    "# obj = [2*cij[0,j]*yj[j] for i in range_customers for j in range_facilityCandidates]\n",
    "\n",
    "print(\"made objective\")\n",
    "\n",
    "\n",
    "# constraints\n",
    "for j in range_facilityCandidates:\n",
    "    model.Add(dij[0,j] < 100 + model.Sum([beta[z]*tiz[i,z] for z in range(0,2) for i in range(0,j)]))\n",
    "\n",
    "for z in range(0,2):\n",
    "    model.Add(xiz[0,z] < 1)\n",
    "    model.Add(tiz[0,z] < 1)\n",
    "\n",
    "model.Minimize(model.Sum(obj))\n",
    "status = model.Solve()\n",
    "\n",
    "if status == pywraplp.Solver.OPTIMAL:\n",
    "    print('Optimal Solution Found')\n",
    "\n",
    "resultGDF2 = resultGDF.copy(deep=True)\n",
    "resultGDF2[\"Status\"] = [yj[j].solution_value() for j in range_facilityCandidates]\n",
    "\n"
   ]
  },
  {
   "cell_type": "code",
   "execution_count": null,
   "metadata": {},
   "outputs": [],
   "source": [
    "def set_fitness(population):\n",
    "        fitnesses = [ \n",
    "            (individual, toolbox.evaluate(individual)) \n",
    "            for individual in population \n",
    "        ]\n",
    "\n",
    "        for individual, fitness in fitnesses:\n",
    "            individual.fitness.values = (fitness,)"
   ]
  },
  {
   "cell_type": "code",
   "execution_count": null,
   "metadata": {},
   "outputs": [],
   "source": [
    "def get_offspring(population,nMatings=50):\n",
    "        n = len(population)\n",
    "        for _ in range(self.n_matings):\n",
    "            i1, i2 = np.random.choice(range(n), size=2, replace=False)\n",
    "\n",
    "            offspring1, offspring2 = \\\n",
    "                toolbox.mate(population[i1], population[i2])\n",
    "            \n",
    "            yield toolbox.mutate(offspring1)[0]\n",
    "            yield toolbox.mutate(offspring2)[0]"
   ]
  },
  {
   "cell_type": "code",
   "execution_count": null,
   "metadata": {},
   "outputs": [],
   "source": [
    "class Runner:\n",
    "    \n",
    "    def __init__(self, toolbox):\n",
    "        self.toolbox = toolbox\n",
    "        self.set_parameters(10, 5, 2)\n",
    "        \n",
    "    def set_parameters(self, population_size, iterations, n_matings):\n",
    "        self.iterations = iterations\n",
    "        self.population_size = population_size\n",
    "        self.n_matings = n_matings\n",
    "        \n",
    "    def set_fitness(self, population):\n",
    "        fitnesses = [ \n",
    "            (individual, self.toolbox.evaluate(individual)) \n",
    "            for individual in population \n",
    "        ]\n",
    "\n",
    "        for individual, fitness in fitnesses:\n",
    "            individual.fitness.values = (fitness,)\n",
    "            \n",
    "    def get_offspring(self, population):\n",
    "        n = len(population)\n",
    "        for _ in range(self.n_matings):\n",
    "            i1, i2 = np.random.choice(range(n), size=2, replace=False)\n",
    "\n",
    "            offspring1, offspring2 = \\\n",
    "                self.toolbox.mate(population[i1], population[i2])\n",
    "            \n",
    "            yield self.toolbox.mutate(offspring1)[0]\n",
    "            yield self.toolbox.mutate(offspring2)[0]\n",
    "    \n",
    "    @staticmethod\n",
    "    def pull_stats(population, iteration=1):\n",
    "        fitnesses = [ individual.fitness.values[0] for individual in population ]\n",
    "        return {\n",
    "            'i': iteration,\n",
    "            'mu': np.mean(fitnesses),\n",
    "            'std': np.std(fitnesses),\n",
    "            'max': np.max(fitnesses),\n",
    "            'min': np.min(fitnesses)\n",
    "        }  \n",
    "    \n",
    "    # https://deap.readthedocs.io/en/master/tutorials/basic/part1.html?highlight=seeding#seeding-a-population\n",
    "    def initIndividual(icls, content):\n",
    "        return icls(content)\n",
    "\n",
    "    def initPopulation(pcls, ind_init, population):\n",
    "        return pcls(ind_init(c) for c in population)\n",
    "\n",
    "    toolbox = base.Toolbox()\n",
    "\n",
    "    toolbox.register(\"individual_guess\", initIndividual, creator.Individual)\n",
    "    toolbox.register(\"population_guess\", initPopulation, list, toolbox.individual_guess, startingPopulation)\n",
    "    \n",
    "    def initializePopulation(self):\n",
    "        # perform a parameter sweep using nearest neighbor method\n",
    "        return toolbox.population_guess()\n",
    "    \n",
    "    def Run(self):\n",
    "        population = self.toolbox.population(n=self.population_size)\n",
    "        #population = startingPopulation\n",
    "        self.set_fitness(population)\n",
    "        \n",
    "        stats = []\n",
    "        for iteration in list(range(1, self.iterations + 1)):\n",
    "            current_population = list(map(self.toolbox.clone, population))\n",
    "            offspring = list(self.get_offspring(current_population))            \n",
    "            for child in offspring:\n",
    "                current_population.append(child)\n",
    "            \n",
    "            ## reset fitness,\n",
    "            self.set_fitness(current_population)\n",
    "            \n",
    "            population[:] = self.toolbox.select(current_population, len(population))\n",
    "            stats.append(\n",
    "                Runner.pull_stats(population, iteration))\n",
    "            \n",
    "        return stats, population"
   ]
  },
  {
   "cell_type": "markdown",
   "metadata": {},
   "source": [
    "# **Notes From Class**"
   ]
  },
  {
   "cell_type": "code",
   "execution_count": null,
   "metadata": {},
   "outputs": [],
   "source": [
    "cities.head()"
   ]
  },
  {
   "cell_type": "code",
   "execution_count": 27,
   "metadata": {},
   "outputs": [],
   "source": [
    "def solveOriginal(cities,M = 100,Rv=100,alpha=75.0):\n",
    "    solver_instance = pywraplp.Solver.CBC_MIXED_INTEGER_PROGRAMMING\n",
    "    distances = buildDistanceMatrix_Euclidean(cities)\n",
    "    cij = distances\n",
    "    n_customers = cij.shape[0]\n",
    "    range_customers = range(n_customers)\n",
    "    n_facilityCandidates = cij.shape[1]\n",
    "    range_facilityCandidates = range(n_facilityCandidates)\n",
    "    demands = np.array(cities[\"demand\"])\n",
    "    demands_sum = demands.sum()\n",
    "    fiz = facilityCost = cities[[\"Facility One Cost\",\"Facility Two Cost\"]].as_matrix()\n",
    "\n",
    "    model = pywraplp.Solver(\"Capacitated Fixed Charge\", solver_instance)\n",
    "    \n",
    "    xij = {(i,j): model.IntVar(0,1, 'x[%i,%i]' % (i,j)) for i in range_customers for j in range_facilityCandidates} # which facility is served by which \n",
    "    yjz = {(j,z): model.IntVar(0,1, 'y[%i,%i]' % (j,z)) for j in range_facilityCandidates for z in range(2)} # charging station location decision/ concentrator\n",
    "    \n",
    "    obj = [alpha * (cij[0,j]+cij[i,j]+cij[i,0]) * xij[i,j] + alpha*2*cij[0,j]*yjz[j,z] + fiz[i,z] * yjz[j,z] for i in range_customers for j in range_facilityCandidates for z in range(2)]\n",
    "    \n",
    "    # Service Constraint\n",
    "    for i in range_customers:\n",
    "        model.Add(model.Sum([xij[i,j] for j in range_facilityCandidates]) == 1)\n",
    "    \n",
    "    # Capacity Constraint\n",
    "    for j in range_facilityCandidates:\n",
    "        model.Add(model.Sum([demands[i] * xij[i,j] for i in range_facilityCandidates]) <= truckCapacity)\n",
    "    \n",
    "    # Assignment Constraint\n",
    "    for i in range_customers:\n",
    "        for j in range_facilityCandidates:\n",
    "            model.Add(xij[i,j] <= model.Sum([yjz[j,z] for z in range(2)]))\n",
    "    \n",
    "    # Maximum Concentratorrs Constraint\n",
    "    for j in range_facilityCandidates:\n",
    "        model.Add(model.Sum([yjz[j,z] for j in range_facilityCandidates for z in range(2)]) <= M)\n",
    "        \n",
    "    # Total tour length constraint\n",
    "    for j in range_facilityCandidates:\n",
    "        model.Add(model.Sum([xij[i,j]*cij[i,j] for i in range_facilityCandidates]) <= Rv)\n",
    "        \n",
    "    # Z limitation constraint\n",
    "    for j in range_facilityCandidates:\n",
    "        model.Add(model.Sum([yjz[j,z] for z in range(2)]) <= 1)\n",
    "\n",
    "    model.Minimize(model.Sum(obj))\n",
    "    status = model.Solve()\n",
    "\n",
    "    if status == pywraplp.Solver.OPTIMAL:\n",
    "        print('Optimal Solution Found')\n",
    "\n",
    "    resultGDF = cities.copy(deep=True)\n",
    "    for z in range(2):\n",
    "        resultGDF[f\"Status: Facility Type {z}\"] = [yjz[j,z].solution_value() for j in range_facilityCandidates]\n",
    "#     resultGDF[\"Status: Facility Type 0\"] = [yjz[j,0].solution_value() for j in range_facilityCandidates]\n",
    "#     resultGDF[\"Status: Facility Type 1\"] = [yjz[j,1].solution_value() for j in range_facilityCandidates]\n",
    "    return model,yjz,xij,resultGDF,status"
   ]
  },
  {
   "cell_type": "code",
   "execution_count": 16,
   "metadata": {},
   "outputs": [],
   "source": [
    "cities = buildCityDF(20)"
   ]
  },
  {
   "cell_type": "code",
   "execution_count": 31,
   "metadata": {},
   "outputs": [
    {
     "name": "stdout",
     "output_type": "stream",
     "text": [
      "Optimal Solution Found\n"
     ]
    }
   ],
   "source": [
    "model,yjz,xij,resultGDF,status = solveOriginal(cities,M=30,Rv=100,alpha=0.001)"
   ]
  },
  {
   "cell_type": "code",
   "execution_count": 32,
   "metadata": {},
   "outputs": [
    {
     "data": {
      "text/plain": [
       "Text(721.4, 0.5, 'City')"
      ]
     },
     "execution_count": 32,
     "metadata": {},
     "output_type": "execute_result"
    },
    {
     "data": {
      "image/png": "[encoded data removed]",
      "text/plain": [
       "<Figure size 1440x720 with 2 Axes>"
      ]
     },
     "metadata": {
      "needs_background": "light"
     },
     "output_type": "display_data"
    }
   ],
   "source": [
    "assignments = np.zeros((len(cities),len(cities)))\n",
    "for k,v in xij.items():\n",
    "    i = k[0]\n",
    "    j = k[1]\n",
    "    assignments[i,j] = v.solution_value()\n",
    "cluster = []\n",
    "for cityNodeID in range(len(cities)):\n",
    "    for rootNodeID in range(len(cities)):\n",
    "        lookup = assignments[cityNodeID,rootNodeID]\n",
    "        if lookup == 1:\n",
    "            cluster.append(rootNodeID)\n",
    "resultGDF[\"assignment\"] = cluster\n",
    "uniqueClusters = list(set(cluster))\n",
    "\n",
    "fig = plt.figure(figsize=(20,10))\n",
    "ax1 = fig.add_subplot(1,2,1)\n",
    "ax2 = fig.add_subplot(1,2,2)\n",
    "fig.tight_layout()\n",
    "colors = ['#'+''.join([random.choice('0123456789ABCDEF') for j in range(6)]) for i in range(len(uniqueClusters))]\n",
    "for i in range(0,len(uniqueClusters)):\n",
    "    dfSubset = resultGDF[resultGDF[\"assignment\"]==uniqueClusters[i]]\n",
    "    dfSubset.plot(ax=ax1,color=colors[i],markersize=dfSubset[\"demand\"],label=f\"({cities.iloc[uniqueClusters[i]].x},{cities.iloc[uniqueClusters[i]].y})\")\n",
    "ax1.set_title(\"Tours organized by cluster\\nNode sizes proportional to demand\")\n",
    "ax1.legend()\n",
    "# Plot assignments\n",
    "plt.imshow(assignments)\n",
    "ax2.set_title(\"Assignment of citites to subtours\")\n",
    "ax2.set_xlabel(\"Subtour Root (Flag/Concentrator) Node\")\n",
    "ax2.set_ylabel(\"City\")"
   ]
  },
  {
   "cell_type": "markdown",
   "metadata": {},
   "source": [
    "# **A) CLEAN UP, CLEAN UP, EVERYBODY EVERYWHERE**"
   ]
  },
  {
   "cell_type": "markdown",
   "metadata": {},
   "source": [
    "By Tomorrow\n",
    "- TSP code  with GA\n",
    "- Test segementation code for size, loop through and see how long it takes to run"
   ]
  },
  {
   "cell_type": "markdown",
   "metadata": {},
   "source": [
    "# **CHECK HOW LARGE WE CAN DO**"
   ]
  },
  {
   "cell_type": "code",
   "execution_count": null,
   "metadata": {},
   "outputs": [],
   "source": [
    "nCities = range(10,110,10)\n",
    "gridX = 100\n",
    "gridY = 100"
   ]
  },
  {
   "cell_type": "code",
   "execution_count": null,
   "metadata": {},
   "outputs": [],
   "source": [
    "times = []\n",
    "for nCity in nCities:\n",
    "    startTime = dt.datetime.now()\n",
    "    cities = buildCityDF(nCity,gridX=100,gridY=100)\n",
    "    m,yj,xij,resultGDF,status = solveOriginal(cities)\n",
    "    endTime = dt.datetime.now()\n",
    "    totalTime = (endTime-startTime).total_seconds()\n",
    "    times.append(totalTime)\n",
    "    print(f\"Completed {nCity} cities in {totalTime} seconds.  Optimal solution: {status == pywraplp.Solver.OPTIMAL}\")"
   ]
  },
  {
   "cell_type": "code",
   "execution_count": null,
   "metadata": {},
   "outputs": [],
   "source": []
  }
 ],
 "metadata": {
  "kernelspec": {
   "display_name": "Python 3",
   "language": "python",
   "name": "python3"
  },
  "language_info": {
   "codemirror_mode": {
    "name": "ipython",
    "version": 3
   },
   "file_extension": ".py",
   "mimetype": "text/x-python",
   "name": "python",
   "nbconvert_exporter": "python",
   "pygments_lexer": "ipython3",
   "version": "3.7.3"
  }
 },
 "nbformat": 4,
 "nbformat_minor": 2
}
