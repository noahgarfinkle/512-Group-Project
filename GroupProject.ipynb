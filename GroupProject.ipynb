{
 "cells": [
  {
   "cell_type": "markdown",
   "metadata": {},
   "source": [
    "# **GROUP PROJECT**"
   ]
  },
  {
   "cell_type": "code",
   "execution_count": null,
   "metadata": {},
   "outputs": [],
   "source": [
    "import numpy as np\n",
    "import pandas as pd\n",
    "import matplotlib.pyplot as plt\n",
    "import seaborn as sns\n",
    "import networkx as nx\n",
    "from collections import defaultdict\n",
    "import geopandas as gpd\n",
    "import random\n",
    "from deap import base, creator, tools\n",
    "import pyproj\n",
    "from shapely.geometry import Point\n",
    "import numpy as np\n",
    "import pandas as pd\n",
    "import matplotlib.pyplot as plt\n",
    "import seaborn as sns\n",
    "import geopandas as gpd\n",
    "import ortools as ort\n",
    "import datetime as dt\n",
    "# pysal submodule imports\n",
    "from pysal.lib import cg, examples\n",
    "from pysal.explore import spaghetti as spgh\n",
    "\n",
    "import geopandas as gpd\n",
    "from shapely.geometry import Point\n",
    "from ortools.linear_solver import pywraplp\n",
    "import copy, sys, warnings\n",
    "from collections import OrderedDict\n",
    "\n",
    "import matplotlib as mpl\n",
    "import matplotlib.lines as mlines\n",
    "import matplotlib.patches as mpatches\n",
    "from matplotlib.colors import ListedColormap\n",
    "\n",
    "try:\n",
    "    from IPython.display import set_matplotlib_formats\n",
    "    set_matplotlib_formats('retina')\n",
    "except ImportError:\n",
    "    pass"
   ]
  },
  {
   "cell_type": "markdown",
   "metadata": {},
   "source": [
    "# **1. Problem Variables**"
   ]
  },
  {
   "cell_type": "code",
   "execution_count": null,
   "metadata": {},
   "outputs": [],
   "source": [
    "# truck variables\n",
    "truckRange = 10\n",
    "truckCapacity = 500\n",
    "nCities = 40\n",
    "M = 30"
   ]
  },
  {
   "cell_type": "markdown",
   "metadata": {},
   "source": [
    "# **2. SET UP CITIES**"
   ]
  },
  {
   "cell_type": "code",
   "execution_count": null,
   "metadata": {},
   "outputs": [],
   "source": [
    "def buildCityDF(nCities,gridX=100,gridY=100):\n",
    "    xs = np.random.randint(0,gridX,nCities)\n",
    "    ys = np.random.randint(0,gridY,nCities)\n",
    "    pts = [Point(xs[i],ys[i]) for i in range(0,nCities)]\n",
    "    demands = np.random.randint(0,101,nCities)\n",
    "    cityIndices = range(0,nCities)\n",
    "    cities = gpd.GeoDataFrame({\"x\":xs,\"y\":ys,\"demand\":demands,\"geometry\":pts,\"City Index\":cityIndices})\n",
    "    return cities"
   ]
  },
  {
   "cell_type": "code",
   "execution_count": null,
   "metadata": {},
   "outputs": [],
   "source": [
    "cities = buildCityDF(nCities)"
   ]
  },
  {
   "cell_type": "markdown",
   "metadata": {},
   "source": [
    "# **3. DIVIDE UP CITIES INTO SUB-TOURS TO BE SOLVED USING TSP**"
   ]
  },
  {
   "cell_type": "code",
   "execution_count": null,
   "metadata": {},
   "outputs": [],
   "source": [
    "def buildDistanceMatrix_Euclidean(cities):\n",
    "    distances = np.zeros((len(cities),len(cities)))\n",
    "    for i,row in cities.iterrows():\n",
    "        for j,row2 in cities.iterrows():\n",
    "            distances[j,i] = row.geometry.distance(row2.geometry)\n",
    "    return distances"
   ]
  },
  {
   "cell_type": "code",
   "execution_count": null,
   "metadata": {},
   "outputs": [],
   "source": [
    "def solveOriginal(cities,M = 100):\n",
    "    solver_instance = pywraplp.Solver.CBC_MIXED_INTEGER_PROGRAMMING\n",
    "    distances = buildDistanceMatrix_Euclidean(cities)\n",
    "    cij = distances\n",
    "    n_customers = cij.shape[0]\n",
    "    range_customers = range(n_customers)\n",
    "    n_facilityCandidates = cij.shape[1]\n",
    "    range_facilityCandidates = range(n_facilityCandidates)\n",
    "    demands = np.array(cities[\"demand\"])\n",
    "    demands_sum = demands.sum()\n",
    "\n",
    "    model = pywraplp.Solver(\"Capacitated Fixed Charge\", solver_instance)\n",
    "    \n",
    "    xij = {(i,j): model.IntVar(0,1, 'x[%i,%i]' % (i,j)) for i in range_customers for j in range_facilityCandidates}\n",
    "    yj = {j: model.IntVar(0,1, 'y[%i]' % (j)) for j in range_facilityCandidates}\n",
    "    \n",
    "    obj = [(cij[0,j]+cij[i,j]+cij[i,0]) * xij[i,j] + 2*cij[0,j]*yj[j] for i in range_customers for j in range_facilityCandidates]\n",
    "    \n",
    "    for i in range_customers:\n",
    "        model.Add(model.Sum([xij[i,j] for j in range_facilityCandidates]) == 1)\n",
    "        \n",
    "    for j in range_facilityCandidates:\n",
    "        model.Add(model.Sum([demands[i] * xij[i,j] for i in range_facilityCandidates]) <= truckCapacity)\n",
    "            \n",
    "    for i in range_customers:\n",
    "        for j in range_facilityCandidates:\n",
    "            model.Add(xij[i,j] <= yj[j])\n",
    "            \n",
    "    for j in range_facilityCandidates:\n",
    "        #model.Add(yj[j] <= M)\n",
    "        model.Add(model.Sum([yj[j] for j in range_facilityCandidates]) <= M)\n",
    "        \n",
    "\n",
    "    model.Minimize(model.Sum(obj))\n",
    "    status = model.Solve()\n",
    "\n",
    "    if status == pywraplp.Solver.OPTIMAL:\n",
    "        print('Optimal Solution Found')\n",
    "\n",
    "    resultGDF = cities.copy(deep=True)\n",
    "    resultGDF[\"Status\"] = [yj[j].solution_value() for j in range_facilityCandidates]\n",
    "    \n",
    "    return model,yj,xij,resultGDF,status"
   ]
  },
  {
   "cell_type": "code",
   "execution_count": null,
   "metadata": {},
   "outputs": [],
   "source": [
    "m,yj,xij,resultGDF,status = solveOriginal(cities,M=M)"
   ]
  },
  {
   "cell_type": "code",
   "execution_count": null,
   "metadata": {},
   "outputs": [],
   "source": [
    "assignments = np.zeros((len(cities),len(cities)))\n",
    "for k,v in xij.items():\n",
    "    i = k[0]\n",
    "    j = k[1]\n",
    "    assignments[i,j] = v.solution_value()\n",
    "cluster = []\n",
    "for cityNodeID in range(len(cities)):\n",
    "    for rootNodeID in range(len(cities)):\n",
    "        lookup = assignments[cityNodeID,rootNodeID]\n",
    "        if lookup == 1:\n",
    "            cluster.append(rootNodeID)\n",
    "resultGDF[\"assignment\"] = cluster\n",
    "uniqueClusters = list(set(cluster))\n",
    "\n",
    "fig = plt.figure(figsize=(20,10))\n",
    "ax1 = fig.add_subplot(1,2,1)\n",
    "ax2 = fig.add_subplot(1,2,2)\n",
    "fig.tight_layout()\n",
    "colors = ['#'+''.join([random.choice('0123456789ABCDEF') for j in range(6)]) for i in range(len(uniqueClusters))]\n",
    "for i in range(0,len(uniqueClusters)):\n",
    "    dfSubset = resultGDF[resultGDF[\"assignment\"]==uniqueClusters[i]]\n",
    "    dfSubset.plot(ax=ax1,color=colors[i],markersize=dfSubset[\"demand\"],label=f\"({cities.iloc[uniqueClusters[i]].x},{cities.iloc[uniqueClusters[i]].y})\")\n",
    "ax1.set_title(\"Tours organized by cluster\\nNode sizes proportional to demand\")\n",
    "ax1.legend()\n",
    "# Plot assignments\n",
    "plt.imshow(assignments)\n",
    "ax2.set_title(\"Assignment of citites to subtours\")\n",
    "ax2.set_xlabel(\"Subtour Root (Flag/Concentrator) Node\")\n",
    "ax2.set_ylabel(\"City\")"
   ]
  },
  {
   "cell_type": "markdown",
   "metadata": {},
   "source": [
    "# **4. SOLVE TSP SUB-TOURS**"
   ]
  },
  {
   "cell_type": "code",
   "execution_count": 74,
   "metadata": {},
   "outputs": [],
   "source": [
    "def buildEdgeDf_Geo(df):\n",
    "    edgeIDs = []\n",
    "    sources = []\n",
    "    destinations = []\n",
    "    weights = []\n",
    "    edgeID = 0\n",
    "    for i,row in df.iterrows():\n",
    "        sourceID = row[\"City Index\"]\n",
    "        sourceGeometry = row[\"geometry\"]\n",
    "        for j,row in df.iterrows():\n",
    "            if j > i:\n",
    "                destID = row[\"City Index\"]\n",
    "                destGeometry = row[\"geometry\"]\n",
    "                distance = sourceGeometry.distance(destGeometry)\n",
    "                edgeIDs.append(edgeID)\n",
    "                sources.append(sourceID)\n",
    "                destinations.append(destID)\n",
    "                weights.append(distance)\n",
    "                edgeID += 1\n",
    "    df_links = pd.DataFrame({\"Edge\":edgeIDs,\"Source\":sources,\"Destination\":destinations,\"weight\":weights})\n",
    "    return df_links"
   ]
  },
  {
   "cell_type": "code",
   "execution_count": 124,
   "metadata": {},
   "outputs": [],
   "source": [
    "def buildMinimumSpanningTree(df):\n",
    "    \"\"\"\n",
    "    Utilizes Kruskal's algorithm\n",
    "    \"\"\"\n",
    "    # 0. create dataframe of edges with weight, source, and destination\n",
    "    if type(df) == gpd.geodataframe.GeoDataFrame:\n",
    "        df_links = buildEdgeDf_Geo(df).sort_values(\"weight\")\n",
    "    else:\n",
    "        df_links = buildEdgeDf(df).sort_values(\"weight\")\n",
    "    \n",
    "    # 1. load all nodes into a graph\n",
    "    graph = nx.Graph()\n",
    "    graph.add_nodes_from(df.index)\n",
    "    # 2. Implement Kruskal's algorithm by adding each edge in order by weight so long as it does not create a cycle\n",
    "    for i,row in df_links.iterrows():\n",
    "        verticesReached = []\n",
    "        source = row[\"Source\"]\n",
    "        destination = row[\"Destination\"]\n",
    "        weight = row[\"weight\"]\n",
    "        graph.add_edge(source,destination)\n",
    "        cyclesInGraph = nx.cycle_basis(graph)\n",
    "        if len(cyclesInGraph) > 0: # check for cycle and remove edge if one is created\n",
    "            graph.remove_edge(source,destination)\n",
    "        if len(graph.edges) == len(graph.nodes) - 1:\n",
    "            break\n",
    "    # check results\n",
    "    fullgraph = nx.from_pandas_edgelist(df_links,source=\"Source\",target=\"Destination\",edge_attr=\"weight\")\n",
    "    mst = nx.minimum_spanning_tree(fullgraph)\n",
    "    isSameGraph = nx.is_isomorphic(graph,mst)\n",
    "    print(f\"The MST algorithm matches that of NetworkX: {isSameGraph}\")\n",
    "    return df_links,graph"
   ]
  },
  {
   "cell_type": "code",
   "execution_count": 125,
   "metadata": {},
   "outputs": [],
   "source": [
    "# duplicate every edge on the MST\n",
    "def duplicateEdges(df_links):\n",
    "    edgeID = max(df_links[\"Edge\"]) + 1\n",
    "    for i,row in df_links.iterrows():\n",
    "        destination = row[\"Destination\"] # flip these because directed!\n",
    "        source = row[\"Source\"] # flip these because directed!\n",
    "        weight = row[\"weight\"]\n",
    "        df_links = df_links.append({\"Edge\":edgeID,\"Source\":destination,\"Destination\":source,\"weight\":weight},ignore_index=True)\n",
    "        edgeID += 1\n",
    "    df_links.index = df_links[\"Edge\"]\n",
    "    return df_links"
   ]
  },
  {
   "cell_type": "code",
   "execution_count": 126,
   "metadata": {},
   "outputs": [],
   "source": [
    "def findNearestNodeNotAlreadyInSet(currentNodeID,df_links_geo_bidirectional,citiesNotInPath):\n",
    "    df_edgesStartingAtCity = df_links_geo_bidirectional[df_links_geo_bidirectional[\"Source\"]==currentNodeID].sort_values(\"weight\")\n",
    "    for i,row in df_edgesStartingAtCity.iterrows():\n",
    "        destinationID = row[\"Destination\"]\n",
    "        if destinationID in citiesNotInPath:\n",
    "            #addCityToPath(destinationID)\n",
    "            return destinationID"
   ]
  },
  {
   "cell_type": "code",
   "execution_count": 127,
   "metadata": {},
   "outputs": [],
   "source": [
    "def addCityToPath(citiesInPath,citiesNotInPath,cityID):\n",
    "    citiesInPath.append(cityID)\n",
    "    citiesNotInPath.remove(cityID)\n",
    "    return citiesInPath,citiesNotInPath"
   ]
  },
  {
   "cell_type": "code",
   "execution_count": 128,
   "metadata": {},
   "outputs": [],
   "source": [
    "dfTourSubset = resultGDF[resultGDF[\"assignment\"]==0]"
   ]
  },
  {
   "cell_type": "code",
   "execution_count": 129,
   "metadata": {},
   "outputs": [
    {
     "name": "stdout",
     "output_type": "stream",
     "text": [
      "The MST algorithm matches that of NetworkX: True\n"
     ]
    }
   ],
   "source": [
    "df_links_geo,graph_geo = buildMinimumSpanningTree(dfTourSubset)"
   ]
  },
  {
   "cell_type": "code",
   "execution_count": 130,
   "metadata": {},
   "outputs": [],
   "source": [
    "df_links_geo_bidirectional = duplicateEdges(df_links_geo)"
   ]
  },
  {
   "cell_type": "code",
   "execution_count": 131,
   "metadata": {},
   "outputs": [],
   "source": []
  },
  {
   "cell_type": "code",
   "execution_count": null,
   "metadata": {},
   "outputs": [],
   "source": []
  },
  {
   "cell_type": "code",
   "execution_count": null,
   "metadata": {},
   "outputs": [],
   "source": []
  },
  {
   "cell_type": "code",
   "execution_count": null,
   "metadata": {},
   "outputs": [],
   "source": []
  },
  {
   "cell_type": "code",
   "execution_count": null,
   "metadata": {},
   "outputs": [],
   "source": []
  },
  {
   "cell_type": "code",
   "execution_count": null,
   "metadata": {},
   "outputs": [],
   "source": [
    "startingPopulation = []\n",
    "for startNode in range(0,len(cities)):\n",
    "    citiesInPath = []\n",
    "    citiesNotInPath = [i for i in range(0,len(cities))]\n",
    "    currentNode = startNode\n",
    "    while len(citiesNotInPath) > 0:\n",
    "        addCityToPath(currentNode)\n",
    "        nextNode = findNearestNodeNotAlreadyInSet(currentNode)\n",
    "        currentNode = nextNode\n",
    "    citiesInPath = [int(cityID) for cityID in citiesInPath]\n",
    "    startingPopulation.append(citiesInPath)"
   ]
  },
  {
   "cell_type": "code",
   "execution_count": 141,
   "metadata": {},
   "outputs": [],
   "source": [
    "def generateStartingPopulation(dfTourSubset):\n",
    "    startingPopulation = []\n",
    "    for startNode in dfTourSubset[\"City Index\"]:\n",
    "        citiesInPath = []\n",
    "        citiesNotInPath = [cityIndex for cityIndex in dfTourSubset[\"City Index\"]]\n",
    "        currentNode = startNode\n",
    "        while len(citiesNotInPath) > 0:\n",
    "            citiesInPath,citiesNotInPath = addCityToPath(citiesInPath,citiesNotInPath,currentNode)\n",
    "            nextNode = findNearestNodeNotAlreadyInSet(currentNode,df_links_geo_bidirectional,citiesNotInPath)\n",
    "            currentNode = nextNode\n",
    "        citiesInPath = [int(cityID) for cityID in citiesInPath]\n",
    "        startingPopulation.append(citiesInPath)\n",
    "    return startingPopulation"
   ]
  },
  {
   "cell_type": "code",
   "execution_count": 142,
   "metadata": {},
   "outputs": [
    {
     "data": {
      "text/plain": [
       "[[0, 35, 19, 27, 39, 23, 16, 37, 36, 26, 38, 24, 33, 25, 29, 15, 4],\n",
       " [4, 15, 29, 25, 33, 24, 23, 39, 16, 37, 36, 26, 38, 0, 35, 19, 27],\n",
       " [15, 29, 25, 33, 24, 23, 39, 16, 37, 36, 26, 38, 0, 35, 19, 27, 4],\n",
       " [16, 37, 36, 26, 38, 24, 33, 0, 35, 19, 27, 39, 23, 25, 29, 15, 4],\n",
       " [19, 0, 35, 33, 24, 23, 39, 16, 37, 36, 26, 38, 29, 25, 15, 4, 27],\n",
       " [23, 39, 16, 37, 36, 26, 38, 24, 33, 0, 35, 19, 27, 25, 29, 15, 4],\n",
       " [24, 33, 0, 35, 19, 27, 39, 23, 16, 37, 36, 26, 38, 29, 25, 15, 4],\n",
       " [25, 29, 15, 4, 35, 0, 19, 27, 39, 23, 16, 37, 36, 26, 38, 24, 33],\n",
       " [26, 38, 36, 37, 16, 23, 39, 27, 0, 35, 19, 33, 24, 25, 29, 15, 4],\n",
       " [27, 39, 23, 16, 37, 36, 26, 38, 24, 33, 0, 35, 19, 4, 15, 29, 25],\n",
       " [29, 25, 15, 4, 35, 0, 19, 27, 39, 23, 16, 37, 36, 26, 38, 24, 33],\n",
       " [33, 24, 23, 39, 16, 37, 36, 26, 38, 29, 25, 15, 4, 35, 0, 19, 27],\n",
       " [35, 0, 19, 27, 39, 23, 16, 37, 36, 26, 38, 24, 33, 25, 29, 15, 4],\n",
       " [36, 26, 38, 37, 16, 23, 39, 27, 0, 35, 19, 33, 24, 25, 29, 15, 4],\n",
       " [37, 16, 36, 26, 38, 24, 33, 0, 35, 19, 27, 39, 23, 25, 29, 15, 4],\n",
       " [38, 26, 36, 37, 16, 23, 39, 27, 0, 35, 19, 33, 24, 25, 29, 15, 4],\n",
       " [39, 23, 16, 37, 36, 26, 38, 24, 33, 0, 35, 19, 27, 25, 29, 15, 4]]"
      ]
     },
     "execution_count": 142,
     "metadata": {},
     "output_type": "execute_result"
    }
   ],
   "source": [
    "generateStartingPopulation(dfTourSubset)"
   ]
  },
  {
   "cell_type": "markdown",
   "metadata": {},
   "source": [
    "# **5. SOLVE FOR CHARGING STATIONS**"
   ]
  },
  {
   "cell_type": "code",
   "execution_count": null,
   "metadata": {},
   "outputs": [],
   "source": []
  },
  {
   "cell_type": "code",
   "execution_count": null,
   "metadata": {},
   "outputs": [],
   "source": []
  },
  {
   "cell_type": "markdown",
   "metadata": {},
   "source": [
    "# **A) CLEAN UP, CLEAN UP, EVERYBODY EVERYWHERE**"
   ]
  },
  {
   "cell_type": "markdown",
   "metadata": {},
   "source": [
    "By Tomorrow\n",
    "- TSP code  with GA\n",
    "- Test segementation code for size, loop through and see how long it takes to run"
   ]
  },
  {
   "cell_type": "markdown",
   "metadata": {},
   "source": [
    "# **CHECK HOW LARGE WE CAN DO**"
   ]
  },
  {
   "cell_type": "code",
   "execution_count": null,
   "metadata": {},
   "outputs": [],
   "source": [
    "nCities = range(10,110,10)\n",
    "gridX = 100\n",
    "gridY = 100"
   ]
  },
  {
   "cell_type": "code",
   "execution_count": null,
   "metadata": {},
   "outputs": [],
   "source": [
    "times = []\n",
    "for nCity in nCities:\n",
    "    startTime = dt.datetime.now()\n",
    "    cities = buildCityDF(nCity,gridX=100,gridY=100)\n",
    "    m,yj,xij,resultGDF,status = solveOriginal(cities)\n",
    "    endTime = dt.datetime.now()\n",
    "    totalTime = (endTime-startTime).total_seconds()\n",
    "    times.append(totalTime)\n",
    "    print(f\"Completed {nCity} cities in {totalTime} seconds.  Optimal solution: {status == pywraplp.Solver.OPTIMAL}\")"
   ]
  },
  {
   "cell_type": "code",
   "execution_count": null,
   "metadata": {},
   "outputs": [],
   "source": []
  }
 ],
 "metadata": {
  "kernelspec": {
   "display_name": "Python 3",
   "language": "python",
   "name": "python3"
  },
  "language_info": {
   "codemirror_mode": {
    "name": "ipython",
    "version": 3
   },
   "file_extension": ".py",
   "mimetype": "text/x-python",
   "name": "python",
   "nbconvert_exporter": "python",
   "pygments_lexer": "ipython3",
   "version": "3.7.3"
  }
 },
 "nbformat": 4,
 "nbformat_minor": 2
}
